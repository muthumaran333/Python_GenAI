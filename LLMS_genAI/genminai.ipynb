{
 "cells": [
  {
   "cell_type": "code",
   "execution_count": 3,
   "id": "6a49fed7",
   "metadata": {},
   "outputs": [
    {
     "name": "stdout",
     "output_type": "stream",
     "text": [
      "Imagine a light switch.  A regular computer's bits are like that light switch: it can be either ON (1) or OFF (0).\n",
      "\n",
      "Now imagine a special, magical light switch that can be **ON, OFF, or BOTH at the same time**.  That's the basic idea behind a **quantum bit**, or **qubit**. This \"both at the same time\" state is called **superposition**.\n",
      "\n",
      "Think of it like this: a regular light switch represents a single path.  A qubit represents many paths simultaneously.  This allows a quantum computer to explore many possibilities at once, like a maze solver trying every path simultaneously instead of one at a time.\n",
      "\n",
      "\n",
      "Another important concept is **entanglement**. Imagine two of our magical light switches linked magically. If one is ON, the other is instantly OFF, and vice versa, no matter how far apart they are.  This instantaneous connection between qubits allows quantum computers to perform calculations in a way classical computers can't.\n",
      "\n",
      "So, while a regular computer solves a problem by going through steps one by one, a quantum computer uses superposition and entanglement to explore many possibilities concurrently, making it potentially much faster for specific types of problems, like drug discovery, materials science, and breaking certain types of encryption.  But it's important to note that quantum computers aren't meant to replace regular computers entirely – they are specialized tools for specific tasks.\n",
      "\n"
     ]
    }
   ],
   "source": [
    "import os\n",
    "from dotenv import load_dotenv\n",
    "import google.generativeai as genai\n",
    "\n",
    "load_dotenv()\n",
    "\n",
    "api_key = os.getenv(\"GOOGLE_API_KEY\")\n",
    "\n",
    "genai.configure(api_key=api_key)\n",
    "\n",
    "model = genai.GenerativeModel(model_name=\"gemini-1.5-flash\")\n",
    "\n",
    "user_prompt = \"Explain quantum computing in simple terms with an analogy\"\n",
    "\n",
    "response = model.generate_content(user_prompt)\n",
    "\n",
    "print(response.text)\n"
   ]
  }
 ],
 "metadata": {
  "kernelspec": {
   "display_name": "llms",
   "language": "python",
   "name": "python3"
  },
  "language_info": {
   "codemirror_mode": {
    "name": "ipython",
    "version": 3
   },
   "file_extension": ".py",
   "mimetype": "text/x-python",
   "name": "python",
   "nbconvert_exporter": "python",
   "pygments_lexer": "ipython3",
   "version": "3.11.13"
  }
 },
 "nbformat": 4,
 "nbformat_minor": 5
}
